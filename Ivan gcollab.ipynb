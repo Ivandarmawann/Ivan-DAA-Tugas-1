{
  "nbformat": 4,
  "nbformat_minor": 0,
  "metadata": {
    "colab": {
      "provenance": []
    },
    "kernelspec": {
      "name": "python3",
      "display_name": "Python 3"
    },
    "language_info": {
      "name": "python"
    }
  },
  "cells": [
    {
      "cell_type": "code",
      "execution_count": null,
      "metadata": {
        "colab": {
          "base_uri": "https://localhost:8080/"
        },
        "id": "5Kd1Vubbbhs9",
        "outputId": "9ec871a3-b400-4466-840b-9badc16db1ec"
      },
      "outputs": [
        {
          "output_type": "stream",
          "name": "stdout",
          "text": [
            "Masukkan angka pertama: 196\n",
            "Masukkan angka kedua: 210\n",
            "Angka terbesar adalah: 210\n"
          ]
        }
      ],
      "source": [
        "angka_pertama = int(input(\"Masukkan angka pertama: \"))\n",
        "angka_kedua = int(input(\"Masukkan angka kedua: \"))\n",
        "\n",
        "if angka_pertama > angka_kedua:\n",
        "    print(\"Angka terbesar adalah:\", angka_pertama)\n",
        "elif angka_kedua > angka_pertama:\n",
        "    print(\"Angka terbesar adalah:\", angka_kedua)\n",
        "else:\n",
        "    print(\"Kedua angka sama besar\")"
      ]
    }
  ]
}